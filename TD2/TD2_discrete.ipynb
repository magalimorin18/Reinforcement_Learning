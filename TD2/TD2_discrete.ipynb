{
 "cells": [
  {
   "cell_type": "markdown",
   "metadata": {},
   "source": [
    "# Discrete version of CartPole\n",
    "\n",
    "In this notebook, we will use the same environment, but we will discretize the state to use a basic Q-Learning algo (without neural networks)"
   ]
  },
  {
   "cell_type": "code",
   "execution_count": 6,
   "metadata": {},
   "outputs": [],
   "source": [
    "# Imports\n",
    "import sys\n",
    "import math\n",
    "from collections import Counter\n",
    "import numpy as np\n",
    "import random\n",
    "import matplotlib.pyplot as plt\n",
    "import pandas as pd\n",
    "import seaborn as sns\n",
    "from tqdm import tqdm\n",
    "from copy import deepcopy\n",
    "#!pip install gym shortprint  pyglet --quiet\n",
    "import gym\n",
    "from gym.wrappers import Monitor\n",
    "\n",
    "# from pyvirtualdisplay import Display\n",
    "from IPython import display as ipythondisplay\n",
    "from IPython.display import clear_output\n",
    "from pathlib import Path\n",
    "import base64\n",
    "\n",
    "#sns.set_palette('brg')  "
   ]
  },
  {
   "cell_type": "code",
   "execution_count": 7,
   "metadata": {},
   "outputs": [],
   "source": [
    "env = gym.make(\"CartPole-v0\")"
   ]
  },
  {
   "cell_type": "markdown",
   "metadata": {},
   "source": [
    "Just to remember, here are the different observations and their ranges. It corresponds to the states\n",
    "\n",
    "    | Num | Observation           | Min                  | Max                |\n",
    "    |-----|-----------------------|----------------------|--------------------|\n",
    "    | 0   | Cart Position         | -4.8*                 | 4.8*                |\n",
    "    | 1   | Cart Velocity         | -Inf                 | Inf                |\n",
    "    | 2   | Pole Angle            | ~ -0.418 rad (-24°)** | ~ 0.418 rad (24°)** |\n",
    "    | 3   | Pole Angular Velocity | -Inf                 | Inf                |"
   ]
  },
  {
   "cell_type": "code",
   "execution_count": 103,
   "metadata": {},
   "outputs": [
    {
     "name": "stdout",
     "output_type": "stream",
     "text": [
      "[-4.8        -5.         -0.41887903 -0.87266463]\n",
      "[4.8        5.         0.41887903 0.87266463]\n"
     ]
    },
    {
     "data": {
      "image/png": "[encoded data removed]",
      "text/plain": [
       "<Figure size 432x288 with 1 Axes>"
      ]
     },
     "metadata": {
      "needs_background": "light"
     },
     "output_type": "display_data"
    }
   ],
   "source": [
    "# Discretize the env\n",
    "DISCRET_NBR = [1, 1, 10, 6] # Number of values per dimension of the state\n",
    "\n",
    "env_low = env.observation_space.low\n",
    "env_high = env.observation_space.high\n",
    "env_low[1], env_high[1] = -5, 5\n",
    "env_low[3], env_high[3] = -math.radians(50), math.radians(50)\n",
    "print(env_low)\n",
    "print(env_high)\n",
    "plt.plot(env_low)\n",
    "plt.plot(env_high)\n",
    "plt.title(\"Upper and Lower bounds\");"
   ]
  },
  {
   "cell_type": "markdown",
   "metadata": {},
   "source": [
    "First of all, we will have to define the boundaries of the different dimensions of the observations. For the cart velocity and the pole angular velocity, we have to define them using the continuous version of the cart pole (in the other notebook), and basically search for the observed max and min during the training. That way, it is possible to pick the different discrete values\n",
    "\n",
    "\n",
    "The function below `convert_state_discrete` will convert a continuous state (provided by the cartpole environment and convert it to a tuple of ints) (we will see later why  a tuple of ints and not just one int)"
   ]
  },
  {
   "cell_type": "code",
   "execution_count": 104,
   "metadata": {},
   "outputs": [],
   "source": [
    "def convert_state_discrete(state):\n",
    "    bucket_indice = []\n",
    "    for state_idx in range(len(state)):\n",
    "        if state[state_idx] <= env_low[state_idx]:\n",
    "            bucket_index = 0\n",
    "        elif state[state_idx] >= env_high[state_idx]:\n",
    "            bucket_index = DISCRET_NBR[state_idx] - 1\n",
    "        else:\n",
    "            # Mapping the state bounds to the bucket array\n",
    "            bound_width = env_high[state_idx] - env_low[state_idx]\n",
    "            offset = (DISCRET_NBR[state_idx] - 1) * env_low[state_idx] / bound_width\n",
    "            scaling = (DISCRET_NBR[state_idx] - 1) / bound_width\n",
    "            bucket_index = int(round(scaling * state[state_idx] - offset))\n",
    "        bucket_indice.append(bucket_index)\n",
    "    return tuple(bucket_indice)\n"
   ]
  },
  {
   "cell_type": "code",
   "execution_count": 105,
   "metadata": {},
   "outputs": [
    {
     "data": {
      "text/plain": [
       "(0, 0, 6, 3)"
      ]
     },
     "execution_count": 105,
     "metadata": {},
     "output_type": "execute_result"
    }
   ],
   "source": [
    "convert_state_discrete([0.1, 0.1, 0.1, 0.1])"
   ]
  },
  {
   "cell_type": "markdown",
   "metadata": {},
   "source": [
    "The below function will evaluate the Q table using a Monte Carlo approach (by simulating several episodes)"
   ]
  },
  {
   "cell_type": "code",
   "execution_count": 106,
   "metadata": {},
   "outputs": [],
   "source": [
    "def eval_q(env, Q, n_sim=5):\n",
    "    \"\"\"Use Monte Carlo evaluation.\"\"\"\n",
    "    env_copy = deepcopy(env)\n",
    "    episode_rewards = np.zeros(n_sim)\n",
    "    for episode_id in range(n_sim):\n",
    "        state = env_copy.reset()\n",
    "        state = convert_state_discrete(state)\n",
    "        done = False\n",
    "        while not done:\n",
    "            action = Q[state].argmax()\n",
    "            state, reward, done, _ = env_copy.step(action)\n",
    "            state = convert_state_discrete(state)\n",
    "            episode_rewards[episode_id]+=reward\n",
    "    return episode_rewards"
   ]
  },
  {
   "cell_type": "markdown",
   "metadata": {},
   "source": [
    "The exploration rates and learning rates will evolve over time, using a log. We have set boundaries to be sure we always explore a bit and learn also ;)"
   ]
  },
  {
   "cell_type": "code",
   "execution_count": 107,
   "metadata": {},
   "outputs": [],
   "source": [
    "def get_explore_rate(t):\n",
    "    return max(0.01, min(1, 1.0 - math.log10((t+1)/25)))\n",
    "\n",
    "def get_learning_rate(t):\n",
    "    return max(0.2, min(0.5, 1.0 - math.log10((t+1)/25)))"
   ]
  },
  {
   "cell_type": "markdown",
   "metadata": {},
   "source": [
    "The trick here is to define Q as a tensor not only (state, value), but (state_1, state_2, state_3, state_4, value). That way, it is much more easier to search/select values in the table"
   ]
  },
  {
   "cell_type": "code",
   "execution_count": 108,
   "metadata": {},
   "outputs": [
    {
     "data": {
      "text/plain": [
       "(1, 1, 10, 6, 2)"
      ]
     },
     "execution_count": 108,
     "metadata": {},
     "output_type": "execute_result"
    }
   ],
   "source": [
    "def generate_Q():\n",
    "    return np.zeros(tuple(DISCRET_NBR) + (2,))\n",
    "generate_Q().shape"
   ]
  },
  {
   "cell_type": "markdown",
   "metadata": {},
   "source": [
    "The code below search for an optimal Q using the Belmann equation. We have to be sure we discretize the state before searching the Q values associated with it"
   ]
  },
  {
   "cell_type": "code",
   "execution_count": 109,
   "metadata": {},
   "outputs": [],
   "source": [
    "def select_action(Q, exploration_rate, state):\n",
    "    if random.random() < exploration_rate:\n",
    "        action = env.action_space.sample()\n",
    "    # Select the action with the highest q\n",
    "    else:\n",
    "        action = np.argmax(Q[state])\n",
    "    return action\n",
    "\n",
    "def policy_optimisation(\n",
    "    env, max_iter=100, gamma=0.99, score_every=10, verbose: bool = False\n",
    "):\n",
    "    \"\"\"Policy optimisation.\"\"\"\n",
    "    Q = generate_Q()\n",
    "\n",
    "    reached_states = Counter()\n",
    "    learning_rate = get_learning_rate(0)\n",
    "    exploration_rate = get_explore_rate(0)\n",
    "    rewards = []\n",
    "\n",
    "    for i in range(max_iter):\n",
    "        state = env.reset()\n",
    "        state = convert_state_discrete(state)\n",
    "        done = False\n",
    "        while not done:\n",
    "            action = select_action(Q, exploration_rate, state)\n",
    "            next_state, reward, done, _ = env.step(action)\n",
    "            next_state = convert_state_discrete(next_state)\n",
    "            reached_states.update([next_state])\n",
    "\n",
    "            Q[state + (action,)] += learning_rate * (\n",
    "                reward\n",
    "                + gamma * np.amax(Q[next_state])\n",
    "                - Q[state + (action,)]\n",
    "            )\n",
    "            state = next_state\n",
    "\n",
    "        if i % score_every == score_every - 1:\n",
    "            score = np.mean(eval_q(env, Q))\n",
    "            if verbose:\n",
    "                print(f\"Step {i}, reward: {score}\")\n",
    "            rewards.append(score)\n",
    "            if score > 199:\n",
    "                break\n",
    "\n",
    "        exploration_rate = get_explore_rate(i)\n",
    "        learning_rate = get_learning_rate(i)\n",
    "    if verbose:\n",
    "        print(\"Reached states during training, for debugging purposes: \", reached_states)\n",
    "    return Q, i, rewards\n"
   ]
  },
  {
   "cell_type": "code",
   "execution_count": 110,
   "metadata": {},
   "outputs": [
    {
     "name": "stdout",
     "output_type": "stream",
     "text": [
      "Step 9, reward: 57.2\n",
      "Step 19, reward: 189.4\n",
      "Step 29, reward: 11.4\n",
      "Step 39, reward: 196.2\n",
      "Step 49, reward: 42.0\n",
      "Step 59, reward: 185.0\n",
      "Step 69, reward: 187.6\n",
      "Step 79, reward: 173.0\n",
      "Step 89, reward: 110.6\n",
      "Step 99, reward: 186.2\n",
      "Step 109, reward: 164.2\n",
      "Step 119, reward: 189.4\n",
      "Step 129, reward: 187.6\n",
      "Step 139, reward: 53.8\n",
      "Step 149, reward: 200.0\n",
      "Reached states during training, for debugging purposes:  Counter({(0, 0, 4, 2): 1952, (0, 0, 4, 3): 1784, (0, 0, 5, 2): 646, (0, 0, 4, 1): 636, (0, 0, 4, 4): 547, (0, 0, 5, 3): 506, (0, 0, 3, 2): 365, (0, 0, 3, 3): 337, (0, 0, 5, 1): 334, (0, 0, 5, 4): 242, (0, 0, 5, 5): 227, (0, 0, 3, 1): 216, (0, 0, 3, 0): 212, (0, 0, 6, 5): 193, (0, 0, 4, 0): 187, (0, 0, 3, 4): 118, (0, 0, 2, 0): 115, (0, 0, 7, 5): 110, (0, 0, 4, 5): 105, (0, 0, 6, 4): 101, (0, 0, 6, 3): 90, (0, 0, 5, 0): 40, (0, 0, 6, 2): 35, (0, 0, 2, 2): 26, (0, 0, 2, 1): 21, (0, 0, 6, 1): 16, (0, 0, 7, 4): 15, (0, 0, 2, 3): 14, (0, 0, 3, 5): 14, (0, 0, 7, 3): 8, (0, 0, 6, 0): 8, (0, 0, 7, 2): 6, (0, 0, 2, 4): 2})\n",
      "149\n"
     ]
    },
    {
     "data": {
      "image/png": "[encoded data removed]",
      "text/plain": [
       "<Figure size 432x288 with 1 Axes>"
      ]
     },
     "metadata": {
      "needs_background": "light"
     },
     "output_type": "display_data"
    }
   ],
   "source": [
    "Q_opti, i, rewards = policy_optimisation(env, max_iter=300, verbose=True)\n",
    "print(i)\n",
    "sns.barplot(y=rewards, x=list(range(len(rewards))), hue=np.zeros((len(rewards),)))\n",
    "plt.legend(\"\")\n",
    "plt.title(\"The mean reward during the training\");"
   ]
  },
  {
   "cell_type": "markdown",
   "metadata": {},
   "source": [
    "As we can see, the training seems to be going great ! Sometimes the rewards can go very close to 200 and then back to low values (20, ...). This is mostly due to the instability of the Q values and the discretization. With low resolutions, the model might learn by error that for the pole slightly to the right, the cart should go to the left, then the reward will fall instantly"
   ]
  },
  {
   "cell_type": "code",
   "execution_count": 111,
   "metadata": {},
   "outputs": [
    {
     "name": "stdout",
     "output_type": "stream",
     "text": [
      "Score with zeros Q\n",
      "[ 9.  9.  8. 10.  9.]\n",
      "Score with advanced Q\n",
      "[200. 200. 200. 200. 200.]\n"
     ]
    }
   ],
   "source": [
    "print(f\"Score with zeros Q\")\n",
    "print(eval_q(env, generate_Q()))\n",
    "print(f\"Score with advanced Q\")\n",
    "print(eval_q(env, Q_opti))"
   ]
  },
  {
   "cell_type": "code",
   "execution_count": 112,
   "metadata": {},
   "outputs": [
    {
     "data": {
      "text/plain": [
       "(1, 1, 10, 6, 2)"
      ]
     },
     "execution_count": 112,
     "metadata": {},
     "output_type": "execute_result"
    }
   ],
   "source": [
    "Q_opti.shape"
   ]
  },
  {
   "cell_type": "code",
   "execution_count": 113,
   "metadata": {},
   "outputs": [
    {
     "data": {
      "text/html": [
       "<video src=\"./videos\\openaigym.video.2.20332.video000000.mp4\" controls  >\n",
       "      Your browser does not support the <code>video</code> element.\n",
       "    </video>"
      ],
      "text/plain": [
       "<IPython.core.display.Video object>"
      ]
     },
     "execution_count": 113,
     "metadata": {},
     "output_type": "execute_result"
    }
   ],
   "source": [
    "video_folder = \"./videos\"\n",
    "env_monitor = Monitor(env, video_folder, force=True, video_callable=lambda episode: True)\n",
    "\n",
    "for episode in range(1):\n",
    "    done = False\n",
    "    state = env_monitor.reset()\n",
    "    while not done:\n",
    "        state = convert_state_discrete(state)\n",
    "        action = Q_opti[state].argmax()\n",
    "        state, reward, done, info = env_monitor.step(action)\n",
    "env_monitor.close()\n",
    "\n",
    "from IPython.display import Video\n",
    "import os\n",
    "from glob import glob\n",
    "Video(glob(os.path.join(video_folder, \"*.mp4\"))[0])\n",
    "\n",
    "# Will not be displayed online"
   ]
  },
  {
   "cell_type": "code",
   "execution_count": 115,
   "metadata": {},
   "outputs": [
    {
     "data": {
      "image/png": "[encoded data removed]",
      "text/plain": [
       "<Figure size 432x288 with 2 Axes>"
      ]
     },
     "metadata": {
      "needs_background": "light"
     },
     "output_type": "display_data"
    }
   ],
   "source": [
    "fig, ax = plt.subplots()\n",
    "sns.heatmap(Q_opti.mean(axis=0).mean(axis=0).argmax(axis=-1), ax=ax)\n",
    "ax.set_title(\"The action taken depending on the state (black for left and white for right)\")\n",
    "ax.set_xlabel(\"The Pole Angle\")\n",
    "ax.set_ylabel(\"The Pole Velocity\")\n",
    "plt.show();"
   ]
  },
  {
   "cell_type": "markdown",
   "metadata": {},
   "source": [
    "This graphic shows the action depending on the pole. Basically, we can see that when the pole is leans towards left, we will go left and vice versa)"
   ]
  },
  {
   "cell_type": "markdown",
   "metadata": {},
   "source": [
    "# Finding the best discretization space\n",
    "\n",
    "We may be able to find the lowest number of states needed to achieve a great score"
   ]
  },
  {
   "cell_type": "code",
   "execution_count": 66,
   "metadata": {},
   "outputs": [],
   "source": [
    "def run_one(verbose=False):\n",
    "    data = {}\n",
    "    # Get the params\n",
    "    data['discrete_total'] = DISCRET_NBR\n",
    "\n",
    "    for i, x in enumerate(DISCRET_NBR):\n",
    "        data[f\"discrete_{i}\"] = x\n",
    "\n",
    "    Q_opti, data['convergence_time'], data['rewards_over_time']  = policy_optimisation(env, max_iter=400, verbose=verbose)\n",
    "    data['score'] = np.mean(eval_q(env, Q_opti, 5))\n",
    "    \n",
    "    return data"
   ]
  },
  {
   "cell_type": "code",
   "execution_count": 81,
   "metadata": {},
   "outputs": [
    {
     "name": "stderr",
     "output_type": "stream",
     "text": [
      "Grid Search: 100%|\u001b[32m██████████\u001b[0m| 432/432 [06:13<00:00,  1.16it/s]\n"
     ]
    }
   ],
   "source": [
    "from itertools import product\n",
    "\n",
    "initial_value = deepcopy(DISCRET_NBR)\n",
    "results = []\n",
    "distributions = [[1, 3, 6] for _ in range(2)] + [[1, 3, 6, 10] for _ in range(2)]\n",
    "possible_value = list(product(*distributions))\n",
    "tries_each = 3\n",
    "with tqdm(total=len(possible_value)*tries_each, desc=\"Grid Search\", colour=\"green\") as pbar:\n",
    "    for discrete_value in possible_value:\n",
    "        for _ in range(tries_each):\n",
    "            DISCRET_NBR = discrete_value\n",
    "            results.append(run_one())\n",
    "            pbar.update()\n",
    "results = pd.DataFrame.from_records(results)\n",
    "DISCRET_NBR = deepcopy(initial_value)"
   ]
  },
  {
   "cell_type": "code",
   "execution_count": 86,
   "metadata": {},
   "outputs": [],
   "source": [
    "results['minus_convergence_time'] = results['convergence_time'].apply(lambda x:-x)"
   ]
  },
  {
   "cell_type": "code",
   "execution_count": 87,
   "metadata": {},
   "outputs": [
    {
     "data": {
      "text/html": [
       "<div>\n",
       "<style scoped>\n",
       "    .dataframe tbody tr th:only-of-type {\n",
       "        vertical-align: middle;\n",
       "    }\n",
       "\n",
       "    .dataframe tbody tr th {\n",
       "        vertical-align: top;\n",
       "    }\n",
       "\n",
       "    .dataframe thead th {\n",
       "        text-align: right;\n",
       "    }\n",
       "</style>\n",
       "<table border=\"1\" class=\"dataframe\">\n",
       "  <thead>\n",
       "    <tr style=\"text-align: right;\">\n",
       "      <th></th>\n",
       "      <th>discrete_total</th>\n",
       "      <th>discrete_0</th>\n",
       "      <th>discrete_1</th>\n",
       "      <th>discrete_2</th>\n",
       "      <th>discrete_3</th>\n",
       "      <th>convergence_time</th>\n",
       "      <th>rewards_over_time</th>\n",
       "      <th>score</th>\n",
       "      <th>minus_convergence_time</th>\n",
       "    </tr>\n",
       "  </thead>\n",
       "  <tbody>\n",
       "    <tr>\n",
       "      <th>0</th>\n",
       "      <td>(1, 1, 1, 1)</td>\n",
       "      <td>1</td>\n",
       "      <td>1</td>\n",
       "      <td>1</td>\n",
       "      <td>1</td>\n",
       "      <td>399</td>\n",
       "      <td>[9.0, 9.2, 9.4, 9.0, 8.6, 9.6, 9.4, 9.0, 9.8, ...</td>\n",
       "      <td>9.4</td>\n",
       "      <td>-399</td>\n",
       "    </tr>\n",
       "    <tr>\n",
       "      <th>1</th>\n",
       "      <td>(1, 1, 1, 1)</td>\n",
       "      <td>1</td>\n",
       "      <td>1</td>\n",
       "      <td>1</td>\n",
       "      <td>1</td>\n",
       "      <td>399</td>\n",
       "      <td>[9.4, 9.6, 8.8, 9.4, 9.8, 9.8, 9.2, 9.4, 9.0, ...</td>\n",
       "      <td>8.6</td>\n",
       "      <td>-399</td>\n",
       "    </tr>\n",
       "    <tr>\n",
       "      <th>2</th>\n",
       "      <td>(1, 1, 1, 1)</td>\n",
       "      <td>1</td>\n",
       "      <td>1</td>\n",
       "      <td>1</td>\n",
       "      <td>1</td>\n",
       "      <td>399</td>\n",
       "      <td>[9.6, 9.4, 9.4, 9.8, 9.6, 9.2, 8.8, 9.4, 9.0, ...</td>\n",
       "      <td>9.0</td>\n",
       "      <td>-399</td>\n",
       "    </tr>\n",
       "    <tr>\n",
       "      <th>3</th>\n",
       "      <td>(1, 1, 1, 3)</td>\n",
       "      <td>1</td>\n",
       "      <td>1</td>\n",
       "      <td>1</td>\n",
       "      <td>3</td>\n",
       "      <td>399</td>\n",
       "      <td>[23.2, 9.8, 9.8, 9.2, 26.8, 23.6, 25.0, 21.8, ...</td>\n",
       "      <td>9.0</td>\n",
       "      <td>-399</td>\n",
       "    </tr>\n",
       "    <tr>\n",
       "      <th>4</th>\n",
       "      <td>(1, 1, 1, 3)</td>\n",
       "      <td>1</td>\n",
       "      <td>1</td>\n",
       "      <td>1</td>\n",
       "      <td>3</td>\n",
       "      <td>399</td>\n",
       "      <td>[9.4, 9.4, 23.6, 9.4, 25.0, 9.4, 9.8, 9.4, 9.4...</td>\n",
       "      <td>9.2</td>\n",
       "      <td>-399</td>\n",
       "    </tr>\n",
       "  </tbody>\n",
       "</table>\n",
       "</div>"
      ],
      "text/plain": [
       "  discrete_total  discrete_0  discrete_1  discrete_2  discrete_3  \\\n",
       "0   (1, 1, 1, 1)           1           1           1           1   \n",
       "1   (1, 1, 1, 1)           1           1           1           1   \n",
       "2   (1, 1, 1, 1)           1           1           1           1   \n",
       "3   (1, 1, 1, 3)           1           1           1           3   \n",
       "4   (1, 1, 1, 3)           1           1           1           3   \n",
       "\n",
       "   convergence_time                                  rewards_over_time  score  \\\n",
       "0               399  [9.0, 9.2, 9.4, 9.0, 8.6, 9.6, 9.4, 9.0, 9.8, ...    9.4   \n",
       "1               399  [9.4, 9.6, 8.8, 9.4, 9.8, 9.8, 9.2, 9.4, 9.0, ...    8.6   \n",
       "2               399  [9.6, 9.4, 9.4, 9.8, 9.6, 9.2, 8.8, 9.4, 9.0, ...    9.0   \n",
       "3               399  [23.2, 9.8, 9.8, 9.2, 26.8, 23.6, 25.0, 21.8, ...    9.0   \n",
       "4               399  [9.4, 9.4, 23.6, 9.4, 25.0, 9.4, 9.8, 9.4, 9.4...    9.2   \n",
       "\n",
       "   minus_convergence_time  \n",
       "0                    -399  \n",
       "1                    -399  \n",
       "2                    -399  \n",
       "3                    -399  \n",
       "4                    -399  "
      ]
     },
     "execution_count": 87,
     "metadata": {},
     "output_type": "execute_result"
    }
   ],
   "source": [
    "results.head()"
   ]
  },
  {
   "cell_type": "code",
   "execution_count": 88,
   "metadata": {},
   "outputs": [
    {
     "data": {
      "text/html": [
       "<div>\n",
       "<style scoped>\n",
       "    .dataframe tbody tr th:only-of-type {\n",
       "        vertical-align: middle;\n",
       "    }\n",
       "\n",
       "    .dataframe tbody tr th {\n",
       "        vertical-align: top;\n",
       "    }\n",
       "\n",
       "    .dataframe thead th {\n",
       "        text-align: right;\n",
       "    }\n",
       "</style>\n",
       "<table border=\"1\" class=\"dataframe\">\n",
       "  <thead>\n",
       "    <tr style=\"text-align: right;\">\n",
       "      <th></th>\n",
       "      <th>discrete_total</th>\n",
       "      <th>discrete_0</th>\n",
       "      <th>discrete_1</th>\n",
       "      <th>discrete_2</th>\n",
       "      <th>discrete_3</th>\n",
       "      <th>convergence_time</th>\n",
       "      <th>rewards_over_time</th>\n",
       "      <th>score</th>\n",
       "      <th>minus_convergence_time</th>\n",
       "    </tr>\n",
       "  </thead>\n",
       "  <tbody>\n",
       "    <tr>\n",
       "      <th>0</th>\n",
       "      <td>(1, 1, 1, 1)</td>\n",
       "      <td>1</td>\n",
       "      <td>1</td>\n",
       "      <td>1</td>\n",
       "      <td>1</td>\n",
       "      <td>399</td>\n",
       "      <td>[9.0, 9.2, 9.4, 9.0, 8.6, 9.6, 9.4, 9.0, 9.8, ...</td>\n",
       "      <td>9.4</td>\n",
       "      <td>-399</td>\n",
       "    </tr>\n",
       "    <tr>\n",
       "      <th>266</th>\n",
       "      <td>(3, 6, 6, 1)</td>\n",
       "      <td>3</td>\n",
       "      <td>6</td>\n",
       "      <td>6</td>\n",
       "      <td>1</td>\n",
       "      <td>399</td>\n",
       "      <td>[9.4, 9.2, 9.2, 27.2, 22.2, 8.8, 36.2, 64.8, 9...</td>\n",
       "      <td>36.2</td>\n",
       "      <td>-399</td>\n",
       "    </tr>\n",
       "    <tr>\n",
       "      <th>264</th>\n",
       "      <td>(3, 6, 6, 1)</td>\n",
       "      <td>3</td>\n",
       "      <td>6</td>\n",
       "      <td>6</td>\n",
       "      <td>1</td>\n",
       "      <td>399</td>\n",
       "      <td>[8.6, 54.6, 8.8, 35.4, 38.0, 13.4, 22.0, 31.2,...</td>\n",
       "      <td>37.6</td>\n",
       "      <td>-399</td>\n",
       "    </tr>\n",
       "    <tr>\n",
       "      <th>263</th>\n",
       "      <td>(3, 6, 3, 10)</td>\n",
       "      <td>3</td>\n",
       "      <td>6</td>\n",
       "      <td>3</td>\n",
       "      <td>10</td>\n",
       "      <td>399</td>\n",
       "      <td>[20.0, 13.4, 26.2, 105.8, 23.2, 184.2, 45.6, 5...</td>\n",
       "      <td>109.6</td>\n",
       "      <td>-399</td>\n",
       "    </tr>\n",
       "    <tr>\n",
       "      <th>262</th>\n",
       "      <td>(3, 6, 3, 10)</td>\n",
       "      <td>3</td>\n",
       "      <td>6</td>\n",
       "      <td>3</td>\n",
       "      <td>10</td>\n",
       "      <td>399</td>\n",
       "      <td>[182.8, 24.6, 35.4, 47.8, 55.2, 103.8, 175.0, ...</td>\n",
       "      <td>162.8</td>\n",
       "      <td>-399</td>\n",
       "    </tr>\n",
       "  </tbody>\n",
       "</table>\n",
       "</div>"
      ],
      "text/plain": [
       "    discrete_total  discrete_0  discrete_1  discrete_2  discrete_3  \\\n",
       "0     (1, 1, 1, 1)           1           1           1           1   \n",
       "266   (3, 6, 6, 1)           3           6           6           1   \n",
       "264   (3, 6, 6, 1)           3           6           6           1   \n",
       "263  (3, 6, 3, 10)           3           6           3          10   \n",
       "262  (3, 6, 3, 10)           3           6           3          10   \n",
       "\n",
       "     convergence_time                                  rewards_over_time  \\\n",
       "0                 399  [9.0, 9.2, 9.4, 9.0, 8.6, 9.6, 9.4, 9.0, 9.8, ...   \n",
       "266               399  [9.4, 9.2, 9.2, 27.2, 22.2, 8.8, 36.2, 64.8, 9...   \n",
       "264               399  [8.6, 54.6, 8.8, 35.4, 38.0, 13.4, 22.0, 31.2,...   \n",
       "263               399  [20.0, 13.4, 26.2, 105.8, 23.2, 184.2, 45.6, 5...   \n",
       "262               399  [182.8, 24.6, 35.4, 47.8, 55.2, 103.8, 175.0, ...   \n",
       "\n",
       "     score  minus_convergence_time  \n",
       "0      9.4                    -399  \n",
       "266   36.2                    -399  \n",
       "264   37.6                    -399  \n",
       "263  109.6                    -399  \n",
       "262  162.8                    -399  "
      ]
     },
     "execution_count": 88,
     "metadata": {},
     "output_type": "execute_result"
    }
   ],
   "source": [
    "results.sort_values(by=\"convergence_time\", ascending=False).head()"
   ]
  },
  {
   "cell_type": "code",
   "execution_count": 90,
   "metadata": {},
   "outputs": [
    {
     "data": {
      "text/html": [
       "<div>\n",
       "<style scoped>\n",
       "    .dataframe tbody tr th:only-of-type {\n",
       "        vertical-align: middle;\n",
       "    }\n",
       "\n",
       "    .dataframe tbody tr th {\n",
       "        vertical-align: top;\n",
       "    }\n",
       "\n",
       "    .dataframe thead th {\n",
       "        text-align: right;\n",
       "    }\n",
       "</style>\n",
       "<table border=\"1\" class=\"dataframe\">\n",
       "  <thead>\n",
       "    <tr style=\"text-align: right;\">\n",
       "      <th></th>\n",
       "      <th>discrete_total</th>\n",
       "      <th>discrete_0</th>\n",
       "      <th>discrete_1</th>\n",
       "      <th>discrete_2</th>\n",
       "      <th>discrete_3</th>\n",
       "      <th>convergence_time</th>\n",
       "      <th>rewards_over_time</th>\n",
       "      <th>score</th>\n",
       "      <th>minus_convergence_time</th>\n",
       "    </tr>\n",
       "  </thead>\n",
       "  <tbody>\n",
       "    <tr>\n",
       "      <th>188</th>\n",
       "      <td>(3, 1, 10, 6)</td>\n",
       "      <td>3</td>\n",
       "      <td>1</td>\n",
       "      <td>10</td>\n",
       "      <td>6</td>\n",
       "      <td>9</td>\n",
       "      <td>[200.0]</td>\n",
       "      <td>200.0</td>\n",
       "      <td>-9</td>\n",
       "    </tr>\n",
       "    <tr>\n",
       "      <th>215</th>\n",
       "      <td>(3, 3, 3, 10)</td>\n",
       "      <td>3</td>\n",
       "      <td>3</td>\n",
       "      <td>3</td>\n",
       "      <td>10</td>\n",
       "      <td>9</td>\n",
       "      <td>[200.0]</td>\n",
       "      <td>200.0</td>\n",
       "      <td>-9</td>\n",
       "    </tr>\n",
       "    <tr>\n",
       "      <th>233</th>\n",
       "      <td>(3, 3, 10, 3)</td>\n",
       "      <td>3</td>\n",
       "      <td>3</td>\n",
       "      <td>10</td>\n",
       "      <td>3</td>\n",
       "      <td>9</td>\n",
       "      <td>[200.0]</td>\n",
       "      <td>200.0</td>\n",
       "      <td>-9</td>\n",
       "    </tr>\n",
       "    <tr>\n",
       "      <th>234</th>\n",
       "      <td>(3, 3, 10, 6)</td>\n",
       "      <td>3</td>\n",
       "      <td>3</td>\n",
       "      <td>10</td>\n",
       "      <td>6</td>\n",
       "      <td>9</td>\n",
       "      <td>[200.0]</td>\n",
       "      <td>200.0</td>\n",
       "      <td>-9</td>\n",
       "    </tr>\n",
       "    <tr>\n",
       "      <th>59</th>\n",
       "      <td>(1, 3, 1, 10)</td>\n",
       "      <td>1</td>\n",
       "      <td>3</td>\n",
       "      <td>1</td>\n",
       "      <td>10</td>\n",
       "      <td>19</td>\n",
       "      <td>[35.6, 200.0]</td>\n",
       "      <td>200.0</td>\n",
       "      <td>-19</td>\n",
       "    </tr>\n",
       "  </tbody>\n",
       "</table>\n",
       "</div>"
      ],
      "text/plain": [
       "    discrete_total  discrete_0  discrete_1  discrete_2  discrete_3  \\\n",
       "188  (3, 1, 10, 6)           3           1          10           6   \n",
       "215  (3, 3, 3, 10)           3           3           3          10   \n",
       "233  (3, 3, 10, 3)           3           3          10           3   \n",
       "234  (3, 3, 10, 6)           3           3          10           6   \n",
       "59   (1, 3, 1, 10)           1           3           1          10   \n",
       "\n",
       "     convergence_time rewards_over_time  score  minus_convergence_time  \n",
       "188                 9           [200.0]  200.0                      -9  \n",
       "215                 9           [200.0]  200.0                      -9  \n",
       "233                 9           [200.0]  200.0                      -9  \n",
       "234                 9           [200.0]  200.0                      -9  \n",
       "59                 19     [35.6, 200.0]  200.0                     -19  "
      ]
     },
     "execution_count": 90,
     "metadata": {},
     "output_type": "execute_result"
    }
   ],
   "source": [
    "results.sort_values(by=[\"score\", \"minus_convergence_time\"], ascending=False).head()"
   ]
  },
  {
   "cell_type": "code",
   "execution_count": 91,
   "metadata": {},
   "outputs": [
    {
     "data": {
      "image/png": "[encoded data removed]",
      "text/plain": [
       "<Figure size 504x1080 with 4 Axes>"
      ]
     },
     "metadata": {
      "needs_background": "light"
     },
     "output_type": "display_data"
    }
   ],
   "source": [
    "fig, axes = plt.subplots(4, 1, figsize=(7, 15))\n",
    "for i in range(4):\n",
    "    ax = axes[i]\n",
    "    sns.lineplot(data=results, x=f\"discrete_{i}\", y=\"score\", ax=ax)\n",
    "    ax.set_title(f\"Convergence time depending on the discrete dimension {i}\")"
   ]
  },
  {
   "cell_type": "markdown",
   "metadata": {},
   "source": [
    "From those graphics and the table below, we can say that the optimal value for each dimensions are [3, 3, 10, 3]\n",
    "\n",
    "We can notice that for the first 2 dimensions, a value of 1 could be good enough (basically, due to the short time of the simulation, the cart is not completly random will not reach the edges of the word (left or right), so those dimensions are useless)\n",
    "For the dimension 3 and 4, we almost reach the right values (for the 4th, it is 6) and for the 3rd, it is close to the correct value"
   ]
  },
  {
   "cell_type": "code",
   "execution_count": 93,
   "metadata": {},
   "outputs": [
    {
     "data": {
      "text/html": [
       "<div>\n",
       "<style scoped>\n",
       "    .dataframe tbody tr th:only-of-type {\n",
       "        vertical-align: middle;\n",
       "    }\n",
       "\n",
       "    .dataframe tbody tr th {\n",
       "        vertical-align: top;\n",
       "    }\n",
       "\n",
       "    .dataframe thead th {\n",
       "        text-align: right;\n",
       "    }\n",
       "</style>\n",
       "<table border=\"1\" class=\"dataframe\">\n",
       "  <thead>\n",
       "    <tr style=\"text-align: right;\">\n",
       "      <th></th>\n",
       "      <th>discrete_0</th>\n",
       "      <th>discrete_1</th>\n",
       "      <th>discrete_2</th>\n",
       "      <th>discrete_3</th>\n",
       "      <th>convergence_time</th>\n",
       "      <th>score</th>\n",
       "      <th>minus_convergence_time</th>\n",
       "    </tr>\n",
       "    <tr>\n",
       "      <th>discrete_total</th>\n",
       "      <th></th>\n",
       "      <th></th>\n",
       "      <th></th>\n",
       "      <th></th>\n",
       "      <th></th>\n",
       "      <th></th>\n",
       "      <th></th>\n",
       "    </tr>\n",
       "  </thead>\n",
       "  <tbody>\n",
       "    <tr>\n",
       "      <th>(3, 3, 10, 3)</th>\n",
       "      <td>3.0</td>\n",
       "      <td>3.0</td>\n",
       "      <td>10.0</td>\n",
       "      <td>3.0</td>\n",
       "      <td>19.000000</td>\n",
       "      <td>200.0</td>\n",
       "      <td>-19.000000</td>\n",
       "    </tr>\n",
       "    <tr>\n",
       "      <th>(3, 1, 10, 3)</th>\n",
       "      <td>3.0</td>\n",
       "      <td>1.0</td>\n",
       "      <td>10.0</td>\n",
       "      <td>3.0</td>\n",
       "      <td>75.666667</td>\n",
       "      <td>200.0</td>\n",
       "      <td>-75.666667</td>\n",
       "    </tr>\n",
       "    <tr>\n",
       "      <th>(3, 3, 6, 3)</th>\n",
       "      <td>3.0</td>\n",
       "      <td>3.0</td>\n",
       "      <td>6.0</td>\n",
       "      <td>3.0</td>\n",
       "      <td>75.666667</td>\n",
       "      <td>200.0</td>\n",
       "      <td>-75.666667</td>\n",
       "    </tr>\n",
       "    <tr>\n",
       "      <th>(3, 1, 10, 6)</th>\n",
       "      <td>3.0</td>\n",
       "      <td>1.0</td>\n",
       "      <td>10.0</td>\n",
       "      <td>6.0</td>\n",
       "      <td>79.000000</td>\n",
       "      <td>200.0</td>\n",
       "      <td>-79.000000</td>\n",
       "    </tr>\n",
       "    <tr>\n",
       "      <th>(1, 3, 6, 3)</th>\n",
       "      <td>1.0</td>\n",
       "      <td>3.0</td>\n",
       "      <td>6.0</td>\n",
       "      <td>3.0</td>\n",
       "      <td>82.333333</td>\n",
       "      <td>200.0</td>\n",
       "      <td>-82.333333</td>\n",
       "    </tr>\n",
       "  </tbody>\n",
       "</table>\n",
       "</div>"
      ],
      "text/plain": [
       "                discrete_0  discrete_1  discrete_2  discrete_3  \\\n",
       "discrete_total                                                   \n",
       "(3, 3, 10, 3)          3.0         3.0        10.0         3.0   \n",
       "(3, 1, 10, 3)          3.0         1.0        10.0         3.0   \n",
       "(3, 3, 6, 3)           3.0         3.0         6.0         3.0   \n",
       "(3, 1, 10, 6)          3.0         1.0        10.0         6.0   \n",
       "(1, 3, 6, 3)           1.0         3.0         6.0         3.0   \n",
       "\n",
       "                convergence_time  score  minus_convergence_time  \n",
       "discrete_total                                                   \n",
       "(3, 3, 10, 3)          19.000000  200.0              -19.000000  \n",
       "(3, 1, 10, 3)          75.666667  200.0              -75.666667  \n",
       "(3, 3, 6, 3)           75.666667  200.0              -75.666667  \n",
       "(3, 1, 10, 6)          79.000000  200.0              -79.000000  \n",
       "(1, 3, 6, 3)           82.333333  200.0              -82.333333  "
      ]
     },
     "execution_count": 93,
     "metadata": {},
     "output_type": "execute_result"
    }
   ],
   "source": [
    "results.groupby(\"discrete_total\").mean().sort_values(by=[\"score\", \"minus_convergence_time\"], ascending=False).head()"
   ]
  }
 ],
 "metadata": {
  "interpreter": {
   "hash": "2e21ec7413ae48246a0eac68f43ec54009bfaca1ef9281e9253f39ef2518907c"
  },
  "kernelspec": {
   "display_name": "Python 3.8.10 ('venv': venv)",
   "language": "python",
   "name": "python3"
  },
  "language_info": {
   "codemirror_mode": {
    "name": "ipython",
    "version": 3
   },
   "file_extension": ".py",
   "mimetype": "text/x-python",
   "name": "python",
   "nbconvert_exporter": "python",
   "pygments_lexer": "ipython3",
   "version": "3.8.10"
  },
  "orig_nbformat": 4
 },
 "nbformat": 4,
 "nbformat_minor": 2
}
