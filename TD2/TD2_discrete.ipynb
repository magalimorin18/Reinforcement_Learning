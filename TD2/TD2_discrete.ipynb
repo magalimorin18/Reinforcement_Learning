{
 "cells": [
  {
   "cell_type": "code",
   "execution_count": 1,
   "metadata": {},
   "outputs": [],
   "source": [
    "# Imports\n",
    "import sys\n",
    "import math\n",
    "import torch\n",
    "import torch.nn as nn\n",
    "import torch.nn.functional as F\n",
    "import torch.optim as optim\n",
    "from collections import Counter\n",
    "import numpy as np\n",
    "import random\n",
    "import matplotlib.pyplot as plt\n",
    "import pandas as pd\n",
    "import seaborn as sns\n",
    "from tqdm import tqdm\n",
    "from copy import deepcopy\n",
    "#!pip install gym shortprint  pyglet --quiet\n",
    "import gym\n",
    "from gym.wrappers import Monitor\n",
    "\n",
    "# from pyvirtualdisplay import Display\n",
    "from IPython import display as ipythondisplay\n",
    "from IPython.display import clear_output\n",
    "from pathlib import Path\n",
    "import base64\n",
    "\n",
    "#sns.set_palette('brg')  "
   ]
  },
  {
   "cell_type": "code",
   "execution_count": 2,
   "metadata": {},
   "outputs": [],
   "source": [
    "env = gym.make(\"CartPole-v0\")"
   ]
  },
  {
   "cell_type": "markdown",
   "metadata": {},
   "source": [
    "    | Num | Observation           | Min                  | Max                |\n",
    "    |-----|-----------------------|----------------------|--------------------|\n",
    "    | 0   | Cart Position         | -4.8*                 | 4.8*                |\n",
    "    | 1   | Cart Velocity         | -Inf                 | Inf                |\n",
    "    | 2   | Pole Angle            | ~ -0.418 rad (-24°)** | ~ 0.418 rad (24°)** |\n",
    "    | 3   | Pole Angular Velocity | -Inf                 | Inf                |"
   ]
  },
  {
   "cell_type": "code",
   "execution_count": 3,
   "metadata": {},
   "outputs": [
    {
     "name": "stdout",
     "output_type": "stream",
     "text": [
      "[-4.8        -5.         -0.41887903 -0.87266463]\n",
      "[4.8        5.         0.41887903 0.87266463]\n"
     ]
    },
    {
     "data": {
      "image/png": "[encoded data removed]",
      "text/plain": [
       "<Figure size 432x288 with 1 Axes>"
      ]
     },
     "metadata": {
      "needs_background": "light"
     },
     "output_type": "display_data"
    }
   ],
   "source": [
    "# Discretize the env\n",
    "DISCRET_NBR = [3, 3, 6, 3] # Number of values per dimension of the state\n",
    "\n",
    "env_low = env.observation_space.low\n",
    "env_high = env.observation_space.high\n",
    "env_low[1], env_high[1] = -5, 5\n",
    "env_low[3], env_high[3] = -math.radians(50), math.radians(50)\n",
    "print(env_low)\n",
    "print(env_high)\n",
    "plt.plot(env_low)\n",
    "plt.plot(env_high)\n",
    "plt.title(\"Upper and Lower bounds\");"
   ]
  },
  {
   "cell_type": "code",
   "execution_count": 4,
   "metadata": {},
   "outputs": [],
   "source": [
    "def convert_state_discrete(state):\n",
    "    bucket_indice = []\n",
    "    for state_idx in range(len(state)):\n",
    "        if state[state_idx] <= env_low[state_idx]:\n",
    "            bucket_index = 0\n",
    "        elif state[state_idx] >= env_high[state_idx]:\n",
    "            bucket_index = DISCRET_NBR[state_idx] - 1\n",
    "        else:\n",
    "            # Mapping the state bounds to the bucket array\n",
    "            bound_width = env_high[state_idx] - env_low[state_idx]\n",
    "            offset = (DISCRET_NBR[state_idx] - 1) * env_low[state_idx] / bound_width\n",
    "            scaling = (DISCRET_NBR[state_idx] - 1) / bound_width\n",
    "            bucket_index = int(round(scaling * state[state_idx] - offset))\n",
    "        bucket_indice.append(bucket_index)\n",
    "    return tuple(bucket_indice)\n"
   ]
  },
  {
   "cell_type": "code",
   "execution_count": 5,
   "metadata": {},
   "outputs": [
    {
     "data": {
      "text/plain": [
       "(1, 1, 3, 1)"
      ]
     },
     "execution_count": 5,
     "metadata": {},
     "output_type": "execute_result"
    }
   ],
   "source": [
    "convert_state_discrete([0.1, 0.1, 0.1, 0.1])"
   ]
  },
  {
   "cell_type": "code",
   "execution_count": 6,
   "metadata": {},
   "outputs": [],
   "source": [
    "def eval_q(env, Q, n_sim=5):\n",
    "    \"\"\"Use Monte Carlo evaluation.\"\"\"\n",
    "    env_copy = deepcopy(env)\n",
    "    episode_rewards = np.zeros(n_sim)\n",
    "    for episode_id in range(n_sim):\n",
    "        state = env_copy.reset()\n",
    "        state = convert_state_discrete(state)\n",
    "        done = False\n",
    "        while not done:\n",
    "            action = Q[state].argmax()\n",
    "            state, reward, done, _ = env_copy.step(action)\n",
    "            state = convert_state_discrete(state)\n",
    "            episode_rewards[episode_id]+=reward\n",
    "    return episode_rewards"
   ]
  },
  {
   "cell_type": "code",
   "execution_count": 7,
   "metadata": {},
   "outputs": [],
   "source": [
    "def get_explore_rate(t):\n",
    "    return max(0.01, min(1, 1.0 - math.log10((t+1)/25)))\n",
    "\n",
    "def get_learning_rate(t):\n",
    "    return max(0.2, min(0.5, 1.0 - math.log10((t+1)/25)))"
   ]
  },
  {
   "cell_type": "code",
   "execution_count": 8,
   "metadata": {},
   "outputs": [
    {
     "data": {
      "text/plain": [
       "(3, 3, 6, 3, 2)"
      ]
     },
     "execution_count": 8,
     "metadata": {},
     "output_type": "execute_result"
    }
   ],
   "source": [
    "def generate_Q():\n",
    "    return np.zeros(tuple(DISCRET_NBR) + (2,))\n",
    "generate_Q().shape"
   ]
  },
  {
   "cell_type": "code",
   "execution_count": 57,
   "metadata": {},
   "outputs": [],
   "source": [
    "def select_action(Q, exploration_rate, state):\n",
    "    if random.random() < exploration_rate:\n",
    "        action = env.action_space.sample()\n",
    "    # Select the action with the highest q\n",
    "    else:\n",
    "        action = np.argmax(Q[state])\n",
    "    return action\n",
    "\n",
    "def policy_optimisation(\n",
    "    env, max_iter=100, gamma=0.99, score_every=10, verbose: bool = False\n",
    "):\n",
    "    \"\"\"Policy optimisation.\"\"\"\n",
    "    Q = generate_Q()\n",
    "\n",
    "    reached_states = Counter()\n",
    "    learning_rate = get_learning_rate(0)\n",
    "    exploration_rate = get_explore_rate(0)\n",
    "\n",
    "    for i in range(max_iter):\n",
    "        state = env.reset()\n",
    "        state = convert_state_discrete(state)\n",
    "        done = False\n",
    "        while not done:\n",
    "            action = select_action(Q, exploration_rate, state)\n",
    "            next_state, reward, done, _ = env.step(action)\n",
    "            next_state = convert_state_discrete(next_state)\n",
    "            reached_states.update([next_state])\n",
    "\n",
    "            Q[state + (action,)] += learning_rate * (\n",
    "                reward\n",
    "                + gamma * np.amax(Q[next_state])\n",
    "                - Q[state + (action,)]\n",
    "            )\n",
    "            state = next_state\n",
    "\n",
    "        if verbose and i % score_every == score_every - 1:\n",
    "            score = np.mean(eval_q(env, Q))\n",
    "            print(f\"Step {i}, reward: {np.mean(eval_q(env, Q))}\")\n",
    "            if score > 199:\n",
    "                break\n",
    "\n",
    "        exploration_rate = get_explore_rate(i)\n",
    "        learning_rate = get_learning_rate(i)\n",
    "    if verbose:\n",
    "        print(reached_states)\n",
    "    return Q, i\n"
   ]
  },
  {
   "cell_type": "code",
   "execution_count": 58,
   "metadata": {},
   "outputs": [
    {
     "name": "stdout",
     "output_type": "stream",
     "text": [
      "Step 9, reward: 181.4\n",
      "Step 19, reward: 31.2\n",
      "Step 29, reward: 186.8\n",
      "Step 39, reward: 28.2\n",
      "Step 49, reward: 183.4\n",
      "Step 59, reward: 171.0\n",
      "Step 69, reward: 167.2\n",
      "Step 79, reward: 191.4\n",
      "Step 89, reward: 28.0\n",
      "Step 99, reward: 192.0\n",
      "Step 109, reward: 30.0\n",
      "Step 119, reward: 197.8\n",
      "Step 129, reward: 194.4\n",
      "Step 139, reward: 183.0\n",
      "Step 149, reward: 28.0\n",
      "Step 159, reward: 16.2\n",
      "Step 169, reward: 26.2\n",
      "Step 179, reward: 18.8\n",
      "Step 189, reward: 30.6\n",
      "Step 199, reward: 16.6\n",
      "Step 209, reward: 200.0\n",
      "Counter({(1, 1, 1, 3): 3307, (1, 1, 1, 2): 3186, (1, 1, 1, 4): 1106, (1, 1, 1, 1): 953, (1, 1, 1, 5): 594, (1, 1, 1, 0): 522, (1, 1, 2, 5): 67, (1, 1, 0, 0): 47, (1, 1, 0, 1): 27, (1, 1, 2, 4): 22, (1, 1, 2, 3): 17, (1, 1, 0, 2): 12, (1, 0, 1, 5): 9, (0, 1, 1, 2): 6, (1, 0, 1, 4): 3, (1, 2, 1, 2): 3, (0, 0, 1, 5): 2, (1, 1, 0, 3): 1, (1, 2, 0, 0): 1, (2, 1, 1, 3): 1, (0, 1, 1, 3): 1, (1, 0, 1, 3): 1, (2, 1, 2, 3): 1, (2, 1, 1, 2): 1})\n",
      "209\n"
     ]
    }
   ],
   "source": [
    "Q_opti, i = policy_optimisation(env, max_iter=300, verbose=True)\n",
    "print(i)"
   ]
  },
  {
   "cell_type": "code",
   "execution_count": 59,
   "metadata": {},
   "outputs": [
    {
     "name": "stdout",
     "output_type": "stream",
     "text": [
      "Score with zeros Q\n",
      "[10. 10. 10.  9.  9.]\n",
      "Score with advanced Q\n",
      "[200. 200. 200. 200. 200.]\n"
     ]
    }
   ],
   "source": [
    "print(f\"Score with zeros Q\")\n",
    "print(eval_q(env, generate_Q()))\n",
    "print(f\"Score with advanced Q\")\n",
    "print(eval_q(env, Q_opti))"
   ]
  },
  {
   "cell_type": "code",
   "execution_count": 60,
   "metadata": {},
   "outputs": [
    {
     "data": {
      "text/plain": [
       "(3, 3, 3, 6, 2)"
      ]
     },
     "execution_count": 60,
     "metadata": {},
     "output_type": "execute_result"
    }
   ],
   "source": [
    "Q_opti.shape"
   ]
  },
  {
   "cell_type": "code",
   "execution_count": 61,
   "metadata": {},
   "outputs": [
    {
     "data": {
      "text/html": [
       "<video src=\"./videos\\openaigym.video.1.13608.video000000.mp4\" controls  >\n",
       "      Your browser does not support the <code>video</code> element.\n",
       "    </video>"
      ],
      "text/plain": [
       "<IPython.core.display.Video object>"
      ]
     },
     "execution_count": 61,
     "metadata": {},
     "output_type": "execute_result"
    }
   ],
   "source": [
    "video_folder = \"./videos\"\n",
    "env_monitor = Monitor(env, video_folder, force=True, video_callable=lambda episode: True)\n",
    "\n",
    "for episode in range(1):\n",
    "    done = False\n",
    "    state = env_monitor.reset()\n",
    "    while not done:\n",
    "        state = convert_state_discrete(state)\n",
    "        action = Q_opti[state].argmax()\n",
    "        state, reward, done, info = env_monitor.step(action)\n",
    "env_monitor.close()\n",
    "\n",
    "from IPython.display import Video\n",
    "import os\n",
    "from glob import glob\n",
    "Video(glob(os.path.join(video_folder, \"*.mp4\"))[0])\n",
    "\n"
   ]
  },
  {
   "cell_type": "markdown",
   "metadata": {},
   "source": [
    "# Finding the best discretization space\n",
    "\n",
    "We may be able to find the lowest number of states needed to achieve a great score"
   ]
  },
  {
   "cell_type": "code",
   "execution_count": 86,
   "metadata": {},
   "outputs": [],
   "source": [
    "def run_one(verbose=False):\n",
    "    data = {}\n",
    "    # Get the params\n",
    "    data['discrete_total'] = DISCRET_NBR\n",
    "\n",
    "    for i, x in enumerate(DISCRET_NBR):\n",
    "        data[f\"discrete_{i}\"] = x\n",
    "\n",
    "    Q_opti, data['convergence_time']  = policy_optimisation(env, max_iter=400, verbose=verbose)\n",
    "    data['score'] = np.mean(eval_q(env, Q_opti, 5))\n",
    "    \n",
    "    return data"
   ]
  },
  {
   "cell_type": "code",
   "execution_count": 89,
   "metadata": {},
   "outputs": [
    {
     "name": "stderr",
     "output_type": "stream",
     "text": [
      "Grid Search: 100%|\u001b[32m██████████\u001b[0m| 243/243 [04:25<00:00,  1.09s/it]\n"
     ]
    }
   ],
   "source": [
    "from itertools import product\n",
    "\n",
    "initial_value = deepcopy(DISCRET_NBR)\n",
    "results = []\n",
    "possible_value = list(product(*[[1, 3, 6, 10] for _ in range(4)]))\n",
    "tries_each = 3\n",
    "with tqdm(total=len(possible_value)*tries_each, desc=\"Grid Search\", colour=\"green\") as pbar:\n",
    "    for discrete_value in possible_value:\n",
    "        for _ in range(tries_each):\n",
    "            DISCRET_NBR = discrete_value\n",
    "            results.append(run_one())\n",
    "            pbar.update()\n",
    "results = pd.DataFrame.from_records(results)\n",
    "DISCRET_NBR = deepcopy(initial_value)"
   ]
  },
  {
   "cell_type": "code",
   "execution_count": 90,
   "metadata": {},
   "outputs": [
    {
     "data": {
      "text/html": [
       "<div>\n",
       "<style scoped>\n",
       "    .dataframe tbody tr th:only-of-type {\n",
       "        vertical-align: middle;\n",
       "    }\n",
       "\n",
       "    .dataframe tbody tr th {\n",
       "        vertical-align: top;\n",
       "    }\n",
       "\n",
       "    .dataframe thead th {\n",
       "        text-align: right;\n",
       "    }\n",
       "</style>\n",
       "<table border=\"1\" class=\"dataframe\">\n",
       "  <thead>\n",
       "    <tr style=\"text-align: right;\">\n",
       "      <th></th>\n",
       "      <th>discrete_total</th>\n",
       "      <th>discrete_0</th>\n",
       "      <th>discrete_1</th>\n",
       "      <th>discrete_2</th>\n",
       "      <th>discrete_3</th>\n",
       "      <th>convergence_time</th>\n",
       "      <th>score</th>\n",
       "    </tr>\n",
       "  </thead>\n",
       "  <tbody>\n",
       "    <tr>\n",
       "      <th>0</th>\n",
       "      <td>(1, 1, 1, 1)</td>\n",
       "      <td>1</td>\n",
       "      <td>1</td>\n",
       "      <td>1</td>\n",
       "      <td>1</td>\n",
       "      <td>399</td>\n",
       "      <td>8.8</td>\n",
       "    </tr>\n",
       "    <tr>\n",
       "      <th>1</th>\n",
       "      <td>(1, 1, 1, 1)</td>\n",
       "      <td>1</td>\n",
       "      <td>1</td>\n",
       "      <td>1</td>\n",
       "      <td>1</td>\n",
       "      <td>399</td>\n",
       "      <td>9.6</td>\n",
       "    </tr>\n",
       "    <tr>\n",
       "      <th>2</th>\n",
       "      <td>(1, 1, 1, 1)</td>\n",
       "      <td>1</td>\n",
       "      <td>1</td>\n",
       "      <td>1</td>\n",
       "      <td>1</td>\n",
       "      <td>399</td>\n",
       "      <td>9.2</td>\n",
       "    </tr>\n",
       "    <tr>\n",
       "      <th>3</th>\n",
       "      <td>(1, 1, 1, 3)</td>\n",
       "      <td>1</td>\n",
       "      <td>1</td>\n",
       "      <td>1</td>\n",
       "      <td>3</td>\n",
       "      <td>399</td>\n",
       "      <td>9.4</td>\n",
       "    </tr>\n",
       "    <tr>\n",
       "      <th>4</th>\n",
       "      <td>(1, 1, 1, 3)</td>\n",
       "      <td>1</td>\n",
       "      <td>1</td>\n",
       "      <td>1</td>\n",
       "      <td>3</td>\n",
       "      <td>399</td>\n",
       "      <td>9.2</td>\n",
       "    </tr>\n",
       "  </tbody>\n",
       "</table>\n",
       "</div>"
      ],
      "text/plain": [
       "  discrete_total  discrete_0  discrete_1  discrete_2  discrete_3  \\\n",
       "0   (1, 1, 1, 1)           1           1           1           1   \n",
       "1   (1, 1, 1, 1)           1           1           1           1   \n",
       "2   (1, 1, 1, 1)           1           1           1           1   \n",
       "3   (1, 1, 1, 3)           1           1           1           3   \n",
       "4   (1, 1, 1, 3)           1           1           1           3   \n",
       "\n",
       "   convergence_time  score  \n",
       "0               399    8.8  \n",
       "1               399    9.6  \n",
       "2               399    9.2  \n",
       "3               399    9.4  \n",
       "4               399    9.2  "
      ]
     },
     "execution_count": 90,
     "metadata": {},
     "output_type": "execute_result"
    }
   ],
   "source": [
    "results.head()"
   ]
  },
  {
   "cell_type": "code",
   "execution_count": 91,
   "metadata": {},
   "outputs": [
    {
     "data": {
      "text/html": [
       "<div>\n",
       "<style scoped>\n",
       "    .dataframe tbody tr th:only-of-type {\n",
       "        vertical-align: middle;\n",
       "    }\n",
       "\n",
       "    .dataframe tbody tr th {\n",
       "        vertical-align: top;\n",
       "    }\n",
       "\n",
       "    .dataframe thead th {\n",
       "        text-align: right;\n",
       "    }\n",
       "</style>\n",
       "<table border=\"1\" class=\"dataframe\">\n",
       "  <thead>\n",
       "    <tr style=\"text-align: right;\">\n",
       "      <th></th>\n",
       "      <th>discrete_total</th>\n",
       "      <th>discrete_0</th>\n",
       "      <th>discrete_1</th>\n",
       "      <th>discrete_2</th>\n",
       "      <th>discrete_3</th>\n",
       "      <th>convergence_time</th>\n",
       "      <th>score</th>\n",
       "    </tr>\n",
       "  </thead>\n",
       "  <tbody>\n",
       "    <tr>\n",
       "      <th>0</th>\n",
       "      <td>(1, 1, 1, 1)</td>\n",
       "      <td>1</td>\n",
       "      <td>1</td>\n",
       "      <td>1</td>\n",
       "      <td>1</td>\n",
       "      <td>399</td>\n",
       "      <td>8.8</td>\n",
       "    </tr>\n",
       "    <tr>\n",
       "      <th>182</th>\n",
       "      <td>(6, 1, 6, 1)</td>\n",
       "      <td>6</td>\n",
       "      <td>1</td>\n",
       "      <td>6</td>\n",
       "      <td>1</td>\n",
       "      <td>399</td>\n",
       "      <td>10.4</td>\n",
       "    </tr>\n",
       "    <tr>\n",
       "      <th>154</th>\n",
       "      <td>(3, 6, 6, 1)</td>\n",
       "      <td>3</td>\n",
       "      <td>6</td>\n",
       "      <td>6</td>\n",
       "      <td>1</td>\n",
       "      <td>399</td>\n",
       "      <td>31.6</td>\n",
       "    </tr>\n",
       "    <tr>\n",
       "      <th>155</th>\n",
       "      <td>(3, 6, 6, 1)</td>\n",
       "      <td>3</td>\n",
       "      <td>6</td>\n",
       "      <td>6</td>\n",
       "      <td>1</td>\n",
       "      <td>399</td>\n",
       "      <td>29.0</td>\n",
       "    </tr>\n",
       "    <tr>\n",
       "      <th>156</th>\n",
       "      <td>(3, 6, 6, 3)</td>\n",
       "      <td>3</td>\n",
       "      <td>6</td>\n",
       "      <td>6</td>\n",
       "      <td>3</td>\n",
       "      <td>399</td>\n",
       "      <td>200.0</td>\n",
       "    </tr>\n",
       "  </tbody>\n",
       "</table>\n",
       "</div>"
      ],
      "text/plain": [
       "    discrete_total  discrete_0  discrete_1  discrete_2  discrete_3  \\\n",
       "0     (1, 1, 1, 1)           1           1           1           1   \n",
       "182   (6, 1, 6, 1)           6           1           6           1   \n",
       "154   (3, 6, 6, 1)           3           6           6           1   \n",
       "155   (3, 6, 6, 1)           3           6           6           1   \n",
       "156   (3, 6, 6, 3)           3           6           6           3   \n",
       "\n",
       "     convergence_time  score  \n",
       "0                 399    8.8  \n",
       "182               399   10.4  \n",
       "154               399   31.6  \n",
       "155               399   29.0  \n",
       "156               399  200.0  "
      ]
     },
     "execution_count": 91,
     "metadata": {},
     "output_type": "execute_result"
    }
   ],
   "source": [
    "results.sort_values(by=\"convergence_time\", ascending=False).head()"
   ]
  },
  {
   "cell_type": "code",
   "execution_count": 92,
   "metadata": {},
   "outputs": [
    {
     "data": {
      "text/html": [
       "<div>\n",
       "<style scoped>\n",
       "    .dataframe tbody tr th:only-of-type {\n",
       "        vertical-align: middle;\n",
       "    }\n",
       "\n",
       "    .dataframe tbody tr th {\n",
       "        vertical-align: top;\n",
       "    }\n",
       "\n",
       "    .dataframe thead th {\n",
       "        text-align: right;\n",
       "    }\n",
       "</style>\n",
       "<table border=\"1\" class=\"dataframe\">\n",
       "  <thead>\n",
       "    <tr style=\"text-align: right;\">\n",
       "      <th></th>\n",
       "      <th>discrete_total</th>\n",
       "      <th>discrete_0</th>\n",
       "      <th>discrete_1</th>\n",
       "      <th>discrete_2</th>\n",
       "      <th>discrete_3</th>\n",
       "      <th>convergence_time</th>\n",
       "      <th>score</th>\n",
       "    </tr>\n",
       "  </thead>\n",
       "  <tbody>\n",
       "    <tr>\n",
       "      <th>211</th>\n",
       "      <td>(6, 3, 6, 3)</td>\n",
       "      <td>6</td>\n",
       "      <td>3</td>\n",
       "      <td>6</td>\n",
       "      <td>3</td>\n",
       "      <td>399</td>\n",
       "      <td>200.0</td>\n",
       "    </tr>\n",
       "    <tr>\n",
       "      <th>160</th>\n",
       "      <td>(3, 6, 6, 6)</td>\n",
       "      <td>3</td>\n",
       "      <td>6</td>\n",
       "      <td>6</td>\n",
       "      <td>6</td>\n",
       "      <td>399</td>\n",
       "      <td>200.0</td>\n",
       "    </tr>\n",
       "    <tr>\n",
       "      <th>105</th>\n",
       "      <td>(3, 1, 6, 6)</td>\n",
       "      <td>3</td>\n",
       "      <td>1</td>\n",
       "      <td>6</td>\n",
       "      <td>6</td>\n",
       "      <td>399</td>\n",
       "      <td>200.0</td>\n",
       "    </tr>\n",
       "    <tr>\n",
       "      <th>104</th>\n",
       "      <td>(3, 1, 6, 3)</td>\n",
       "      <td>3</td>\n",
       "      <td>1</td>\n",
       "      <td>6</td>\n",
       "      <td>3</td>\n",
       "      <td>399</td>\n",
       "      <td>200.0</td>\n",
       "    </tr>\n",
       "    <tr>\n",
       "      <th>103</th>\n",
       "      <td>(3, 1, 6, 3)</td>\n",
       "      <td>3</td>\n",
       "      <td>1</td>\n",
       "      <td>6</td>\n",
       "      <td>3</td>\n",
       "      <td>399</td>\n",
       "      <td>200.0</td>\n",
       "    </tr>\n",
       "  </tbody>\n",
       "</table>\n",
       "</div>"
      ],
      "text/plain": [
       "    discrete_total  discrete_0  discrete_1  discrete_2  discrete_3  \\\n",
       "211   (6, 3, 6, 3)           6           3           6           3   \n",
       "160   (3, 6, 6, 6)           3           6           6           6   \n",
       "105   (3, 1, 6, 6)           3           1           6           6   \n",
       "104   (3, 1, 6, 3)           3           1           6           3   \n",
       "103   (3, 1, 6, 3)           3           1           6           3   \n",
       "\n",
       "     convergence_time  score  \n",
       "211               399  200.0  \n",
       "160               399  200.0  \n",
       "105               399  200.0  \n",
       "104               399  200.0  \n",
       "103               399  200.0  "
      ]
     },
     "execution_count": 92,
     "metadata": {},
     "output_type": "execute_result"
    }
   ],
   "source": [
    "results.sort_values(by=\"score\", ascending=False).head()"
   ]
  },
  {
   "cell_type": "code",
   "execution_count": 93,
   "metadata": {},
   "outputs": [
    {
     "data": {
      "image/png": "[encoded data removed]",
      "text/plain": [
       "<Figure size 504x1080 with 4 Axes>"
      ]
     },
     "metadata": {
      "needs_background": "light"
     },
     "output_type": "display_data"
    }
   ],
   "source": [
    "fig, axes = plt.subplots(4, 1, figsize=(7, 15))\n",
    "for i in range(4):\n",
    "    ax = axes[i]\n",
    "    sns.lineplot(data=results, x=f\"discrete_{i}\", y=\"score\", ax=ax)\n",
    "    ax.set_title(f\"Convergence time depending on the discrete dimension {i}\")"
   ]
  },
  {
   "cell_type": "code",
   "execution_count": null,
   "metadata": {},
   "outputs": [],
   "source": []
  }
 ],
 "metadata": {
  "interpreter": {
   "hash": "2e21ec7413ae48246a0eac68f43ec54009bfaca1ef9281e9253f39ef2518907c"
  },
  "kernelspec": {
   "display_name": "Python 3.8.10 ('venv': venv)",
   "language": "python",
   "name": "python3"
  },
  "language_info": {
   "codemirror_mode": {
    "name": "ipython",
    "version": 3
   },
   "file_extension": ".py",
   "mimetype": "text/x-python",
   "name": "python",
   "nbconvert_exporter": "python",
   "pygments_lexer": "ipython3",
   "version": "3.8.10"
  },
  "orig_nbformat": 4
 },
 "nbformat": 4,
 "nbformat_minor": 2
}
